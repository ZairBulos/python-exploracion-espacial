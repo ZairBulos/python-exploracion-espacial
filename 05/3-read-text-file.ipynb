{
  "cells": [
    {
      "cell_type": "markdown",
      "metadata": {},
      "source": [
        "Let's start by making sure we have the code from the previous unit. If you're running this in Visual Studio Code, confirm you have this code in your notebook. If you're running this in Learn, run this code cell to make sure that we have brought this code over to this notebook:"
      ]
    },
    {
      "cell_type": "code",
      "execution_count": 1,
      "metadata": {},
      "outputs": [
        {
          "name": "stdout",
          "output_type": "stream",
          "text": [
            "Artemis Rover Rock Scanner Starting\n"
          ]
        }
      ],
      "source": [
        "print(\"Artemis Rover Rock Scanner Starting\")\n",
        "\n",
        "basalt = 0\n",
        "breccia = 0\n",
        "highland = 0\n",
        "regolith = 0\n",
        "rockList = []"
      ]
    },
    {
      "cell_type": "markdown",
      "metadata": {
        "nteract": {
          "transient": {
            "deleting": false
          }
        }
      },
      "source": [
        "Let's create a sample file we can use over the course of this module. This will contain a list of rocks.\n",
        "\n",
        "Run this code cell to:\n",
        "\n",
        "1. Specify the text file we'll write to\n",
        "1. Open the file\n",
        "1. Write text to the file\n",
        "1. Close the file"
      ]
    },
    {
      "cell_type": "code",
      "execution_count": 2,
      "metadata": {
        "collapsed": true,
        "jupyter": {
          "outputs_hidden": false,
          "source_hidden": false
        },
        "nteract": {
          "transient": {
            "deleting": false
          }
        }
      },
      "outputs": [],
      "source": [
        "strPath = \"rocks.txt\"\n",
        "fileObject = open(strPath, \"w\")\n",
        "fileObject.writelines([\"Reading Rocks\\n\",\"basalt\\n\",\"breccia\\n\",\"highland\\n\",\"regolith\\n\",\"highland\\n\",\"breccia\\n\",\"highland\\n\",\"regolith\\n\",\"regolith\\n\",\"basalt\\n\",\"highland\\n\",\"basalt\\n\",\"breccia\\n\",\"breccia\\n\",\"regolith\\n\",\"breccia\\n\",\"highland\\n\",\"highland\\n\",\"breccia\\n\",\"basalt\\n\"])\n",
        "fileObject.close()\n"
      ]
    },
    {
      "cell_type": "markdown",
      "metadata": {},
      "source": [
        "Now that we have some variables made, we can start giving these variables values. We want to count the number of times we see a certain type of rock in the `rocks.txt` file and add that number to the corresponding variable. For example, if there are 12 basalt rocks that Artemis saved to the text file, then we'll want the `basalt` variable to be set to `12`.\n",
        "\n",
        "Let's start by telling the computer to read in the `rocks.txt` file. To do this, run the code below. The `readline` function reads the first line, which is just telling us that we are starting to read the rocks that are written in the file."
      ]
    },
    {
      "cell_type": "code",
      "execution_count": 3,
      "metadata": {},
      "outputs": [
        {
          "name": "stdout",
          "output_type": "stream",
          "text": [
            "Reading Rocks\n",
            "\n"
          ]
        }
      ],
      "source": [
        "strPath = \"rocks.txt\"\n",
        "fileObject = open(strPath)\n",
        "line = fileObject.readline()\n",
        "print(line)"
      ]
    },
    {
      "cell_type": "markdown",
      "metadata": {},
      "source": [
        "Now, we can call the readlines() function to put all of the lines into our `rockList` variable. We'll also print all of the rocks that are in the `rockList` and close the `fileObject`."
      ]
    },
    {
      "cell_type": "code",
      "execution_count": 4,
      "metadata": {},
      "outputs": [
        {
          "name": "stdout",
          "output_type": "stream",
          "text": [
            "basalt\n",
            "\n",
            "breccia\n",
            "\n",
            "highland\n",
            "\n",
            "regolith\n",
            "\n",
            "highland\n",
            "\n",
            "breccia\n",
            "\n",
            "highland\n",
            "\n",
            "regolith\n",
            "\n",
            "regolith\n",
            "\n",
            "basalt\n",
            "\n",
            "highland\n",
            "\n",
            "basalt\n",
            "\n",
            "breccia\n",
            "\n",
            "breccia\n",
            "\n",
            "regolith\n",
            "\n",
            "breccia\n",
            "\n",
            "highland\n",
            "\n",
            "highland\n",
            "\n",
            "breccia\n",
            "\n",
            "basalt\n",
            "\n"
          ]
        }
      ],
      "source": [
        "rockList = fileObject.readlines()\n",
        "\n",
        "for rock in rockList:\n",
        "    print(rock)\n",
        "\n",
        "fileObject.close()"
      ]
    },
    {
      "cell_type": "markdown",
      "metadata": {},
      "source": [
        "Although we're only printing out each rock that we see in a file at this stage, this exercise sets us up perfectly to call a function. This function looks at each rock and adds to the corresponding variable if it sees a rock of the correct type."
      ]
    }
  ],
  "metadata": {
    "kernelspec": {
      "display_name": "Python 3",
      "language": "python",
      "name": "python3"
    },
    "language_info": {
      "codemirror_mode": {
        "name": "ipython",
        "version": 3
      },
      "file_extension": ".py",
      "mimetype": "text/x-python",
      "name": "python",
      "nbconvert_exporter": "python",
      "pygments_lexer": "ipython3",
      "version": "3.10.9"
    },
    "nteract": {
      "version": "nteract-front-end@1.0.0"
    },
    "orig_nbformat": 2
  },
  "nbformat": 4,
  "nbformat_minor": 2
}
