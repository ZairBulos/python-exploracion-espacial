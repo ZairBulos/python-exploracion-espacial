{
  "cells": [
    {
      "cell_type": "markdown",
      "metadata": {},
      "source": [
        "Let's start by making sure we have the code from the previous units loaded in our notebook. Either confirm that you have the following code in your notebook in Visual Studio Code, or run this code cell to make sure that we've brought this code over to this notebook."
      ]
    },
    {
      "cell_type": "code",
      "execution_count": 1,
      "metadata": {},
      "outputs": [
        {
          "name": "stdout",
          "output_type": "stream",
          "text": [
            "Artemis Rover Rock Scanner Starting\n",
            "Reading Rocks\n",
            "\n",
            "basalt\n",
            "\n",
            "breccia\n",
            "\n",
            "highland\n",
            "\n",
            "regolith\n",
            "\n",
            "highland\n",
            "\n",
            "breccia\n",
            "\n",
            "highland\n",
            "\n",
            "regolith\n",
            "\n",
            "regolith\n",
            "\n",
            "basalt\n",
            "\n",
            "highland\n",
            "\n",
            "basalt\n",
            "\n",
            "breccia\n",
            "\n",
            "breccia\n",
            "\n",
            "regolith\n",
            "\n",
            "breccia\n",
            "\n",
            "highland\n",
            "\n",
            "highland\n",
            "\n",
            "breccia\n",
            "\n",
            "basalt\n",
            "\n",
            "Found a basalt\n",
            "\n",
            "Found a breccia\n",
            "\n",
            "Found a highland\n",
            "\n",
            "Found a regolith\n",
            "\n",
            "Found a highland\n",
            "\n",
            "Found a breccia\n",
            "\n",
            "Found a highland\n",
            "\n",
            "Found a regolith\n",
            "\n",
            "Found a regolith\n",
            "\n",
            "Found a basalt\n",
            "\n",
            "Found a highland\n",
            "\n",
            "Found a basalt\n",
            "\n",
            "Found a breccia\n",
            "\n",
            "Found a breccia\n",
            "\n",
            "Found a regolith\n",
            "\n",
            "Found a breccia\n",
            "\n",
            "Found a highland\n",
            "\n",
            "Found a highland\n",
            "\n",
            "Found a breccia\n",
            "\n",
            "Found a basalt\n",
            "\n"
          ]
        }
      ],
      "source": [
        "print(\"Artemis Rover Rock Scanner Starting\")\n",
        "\n",
        "basalt = 0\n",
        "breccia = 0\n",
        "highland = 0\n",
        "regolith = 0\n",
        "rockList = []\n",
        "\n",
        "strPath = \"rocks.txt\"\n",
        "fileObject = open(strPath)\n",
        "line = fileObject.readline()\n",
        "print(line)\n",
        "\n",
        "rockList = fileObject.readlines()\n",
        "\n",
        "for rock in rockList:\n",
        "    print(rock)\n",
        "\n",
        "fileObject.close()\n",
        "\n",
        "def countMoonRocks(rockToID):\n",
        "    global basalt\n",
        "    global breccia\n",
        "    global highland\n",
        "    global regolith\n",
        "\n",
        "    rockToID = rockToID.lower()\n",
        "\n",
        "    if(\"basalt\" in rockToID):\n",
        "        print(\"Found a basalt\\n\")\n",
        "        basalt += 1\n",
        "    elif(\"breccia\" in rockToID):\n",
        "        print(\"Found a breccia\\n\")\n",
        "        breccia += 1\n",
        "    elif(\"highland\" in rockToID):\n",
        "        print(\"Found a highland\\n\")\n",
        "        highland += 1\n",
        "    elif(\"regolith\" in rockToID):\n",
        "        print(\"Found a regolith\\n\")\n",
        "        regolith += 1\n",
        "\n",
        "    return\n",
        "\n",
        "for rock in rockList:\n",
        "    countMoonRocks(rock)"
      ]
    },
    {
      "cell_type": "markdown",
      "metadata": {},
      "source": [
        "Let's start by printing the number of each type of rock we found. For example, to print the number of basalt rocks, run this code cell:"
      ]
    },
    {
      "cell_type": "code",
      "execution_count": 2,
      "metadata": {},
      "outputs": [
        {
          "name": "stdout",
          "output_type": "stream",
          "text": [
            "Number of Basalt:  4\n"
          ]
        }
      ],
      "source": [
        "# TODO Add a print statement for the other types of rocks: breccia, highland and regolith\n",
        "print(\"Number of Basalt: \", basalt)"
      ]
    },
    {
      "cell_type": "markdown",
      "metadata": {},
      "source": [
        "As you can see, we first output a string that tells the user what they'll see. Then we concatenate on the variable name that includes the number of basalt rocks we found.\n",
        "\n",
        "Do the same thing for the four types of rock variables we created. (Solution code is below if you get stuck).\n",
        "\n",
        "Next, let's provide some more general data, such as the type of rock that was the most and least common. In this case, we'll use the `max()` and `min()` functions that we learned about in a previous module in this learning path.\n",
        "\n",
        "Try to figure out what you need to do, but if you get stuck, read below for the answer:"
      ]
    },
    {
      "cell_type": "code",
      "execution_count": 3,
      "metadata": {},
      "outputs": [
        {
          "ename": "TypeError",
          "evalue": "'int' object is not iterable",
          "output_type": "error",
          "traceback": [
            "\u001b[1;31m---------------------------------------------------------------------------\u001b[0m",
            "\u001b[1;31mTypeError\u001b[0m                                 Traceback (most recent call last)",
            "Cell \u001b[1;32mIn[3], line 2\u001b[0m\n\u001b[0;32m      1\u001b[0m \u001b[39m# TODO Add other rock types to the \"max\" and \"min\" function calls\u001b[39;00m\n\u001b[1;32m----> 2\u001b[0m \u001b[39mprint\u001b[39m(\u001b[39m\"\u001b[39m\u001b[39mThe max number of one type of rock found was:\u001b[39m\u001b[39m\"\u001b[39m, \u001b[39mmax\u001b[39;49m(basalt, ))\n\u001b[0;32m      3\u001b[0m \u001b[39mprint\u001b[39m(\u001b[39m\"\u001b[39m\u001b[39mThe minimum number of one type of rock found was:\u001b[39m\u001b[39m\"\u001b[39m, \u001b[39mmin\u001b[39m(basalt, ))\n",
            "\u001b[1;31mTypeError\u001b[0m: 'int' object is not iterable"
          ]
        }
      ],
      "source": [
        "# TODO Add other rock types to the \"max\" and \"min\" function calls\n",
        "print(\"The max number of one type of rock found was:\", max(basalt, ))\n",
        "print(\"The minimum number of one type of rock found was:\", min(basalt, ))"
      ]
    },
    {
      "cell_type": "markdown",
      "metadata": {},
      "source": [
        "Solution Code:"
      ]
    },
    {
      "cell_type": "code",
      "execution_count": null,
      "metadata": {},
      "outputs": [],
      "source": [
        "print(\"Number of Basalt: \", basalt)\n",
        "print(\"Number of Breccia: \", breccia)\n",
        "print(\"Number of Highland: \", highland)\n",
        "print(\"Number of Regolith: \", regolith)\n",
        "\n",
        "print(\"The max number of one type of rock found was:\", max(basalt, breccia, highland,regolith))\n",
        "print(\"The minimum number of one type of rock found was:\", min(basalt, breccia, highland, regolith))"
      ]
    },
    {
      "cell_type": "markdown",
      "metadata": {},
      "source": [
        "Congratulations, you've successfully programmed Artemis to give a summary about the different types of rock data that it found."
      ]
    }
  ],
  "metadata": {
    "kernelspec": {
      "display_name": "Python 3",
      "language": "python",
      "name": "python3"
    },
    "language_info": {
      "codemirror_mode": {
        "name": "ipython",
        "version": 3
      },
      "file_extension": ".py",
      "mimetype": "text/x-python",
      "name": "python",
      "nbconvert_exporter": "python",
      "pygments_lexer": "ipython3",
      "version": "3.10.9"
    },
    "nteract": {
      "version": "nteract-front-end@1.0.0"
    },
    "orig_nbformat": 2
  },
  "nbformat": 4,
  "nbformat_minor": 2
}
