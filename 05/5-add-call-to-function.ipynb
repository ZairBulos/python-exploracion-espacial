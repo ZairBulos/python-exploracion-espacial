{
  "cells": [
    {
      "cell_type": "markdown",
      "metadata": {},
      "source": [
        "Let's start by making sure we have the code from the previous units loaded in our notebook. Either confirm that you have the following code in your notebook in Visual Studio Code, or run this code cell to make sure that we've brought this code over to this notebook."
      ]
    },
    {
      "cell_type": "code",
      "execution_count": 1,
      "metadata": {},
      "outputs": [
        {
          "name": "stdout",
          "output_type": "stream",
          "text": [
            "Artemis Rover Rock Scanner Starting\n",
            "Reading Rocks\n",
            "\n",
            "basalt\n",
            "\n",
            "breccia\n",
            "\n",
            "highland\n",
            "\n",
            "regolith\n",
            "\n",
            "highland\n",
            "\n",
            "breccia\n",
            "\n",
            "highland\n",
            "\n",
            "regolith\n",
            "\n",
            "regolith\n",
            "\n",
            "basalt\n",
            "\n",
            "highland\n",
            "\n",
            "basalt\n",
            "\n",
            "breccia\n",
            "\n",
            "breccia\n",
            "\n",
            "regolith\n",
            "\n",
            "breccia\n",
            "\n",
            "highland\n",
            "\n",
            "highland\n",
            "\n",
            "breccia\n",
            "\n",
            "basalt\n",
            "\n"
          ]
        }
      ],
      "source": [
        "print(\"Artemis Rover Rock Scanner Starting\")\n",
        "\n",
        "basalt = 0\n",
        "breccia = 0\n",
        "highland = 0\n",
        "regolith = 0\n",
        "rockList = []\n",
        "\n",
        "strPath = \"rocks.txt\"\n",
        "fileObject = open(strPath)\n",
        "line = fileObject.readline()\n",
        "print(line)\n",
        "\n",
        "rockList = fileObject.readlines()\n",
        "\n",
        "for rock in rockList:\n",
        "    print(rock)\n",
        "\n",
        "fileObject.close()\n",
        "\n",
        "def countMoonRocks(rockToID):\n",
        "    global basalt\n",
        "    global breccia\n",
        "    global highland\n",
        "    global regolith\n",
        "\n",
        "    rockToID = rockToID.lower()\n",
        "\n",
        "    if(\"basalt\" in rockToID):\n",
        "        print(\"Found a basalt\\n\")\n",
        "        basalt += 1\n",
        "    elif(\"breccia\" in rockToID):\n",
        "        print(\"Found a breccia\\n\")\n",
        "        breccia += 1\n",
        "    elif(\"highland\" in rockToID):\n",
        "        print(\"Found a highland\\n\")\n",
        "        highland += 1\n",
        "    elif(\"regolith\" in rockToID):\n",
        "        print(\"Found a regolith\\n\")\n",
        "        regolith += 1\n",
        "\n",
        "    return"
      ]
    },
    {
      "cell_type": "markdown",
      "metadata": {},
      "source": [
        "Now that the function is made, we'll need to include a call to it so it'll be used. We'll create a `for` loop to go through every value in our rock list and call the function with each rock."
      ]
    },
    {
      "cell_type": "code",
      "execution_count": 2,
      "metadata": {},
      "outputs": [
        {
          "name": "stdout",
          "output_type": "stream",
          "text": [
            "Found a basalt\n",
            "\n",
            "Found a breccia\n",
            "\n",
            "Found a highland\n",
            "\n",
            "Found a regolith\n",
            "\n",
            "Found a highland\n",
            "\n",
            "Found a breccia\n",
            "\n",
            "Found a highland\n",
            "\n",
            "Found a regolith\n",
            "\n",
            "Found a regolith\n",
            "\n",
            "Found a basalt\n",
            "\n",
            "Found a highland\n",
            "\n",
            "Found a basalt\n",
            "\n",
            "Found a breccia\n",
            "\n",
            "Found a breccia\n",
            "\n",
            "Found a regolith\n",
            "\n",
            "Found a breccia\n",
            "\n",
            "Found a highland\n",
            "\n",
            "Found a highland\n",
            "\n",
            "Found a breccia\n",
            "\n",
            "Found a basalt\n",
            "\n"
          ]
        }
      ],
      "source": [
        "for rock in rockList:\n",
        "    countMoonRocks(rock)"
      ]
    },
    {
      "cell_type": "markdown",
      "metadata": {},
      "source": [
        "This code calls the function that we've created for each line of text (each rock) that was reported by the rover. The function adds to the count for the corresponding type of rock and stores this number in the respective variable.\n",
        "\n",
        "Now that we have all of the rock counts in their variables, we can use some additional code to write summaries about them."
      ]
    }
  ],
  "metadata": {
    "kernelspec": {
      "display_name": "Python 3",
      "language": "python",
      "name": "python3"
    },
    "language_info": {
      "codemirror_mode": {
        "name": "ipython",
        "version": 3
      },
      "file_extension": ".py",
      "mimetype": "text/x-python",
      "name": "python",
      "nbconvert_exporter": "python",
      "pygments_lexer": "ipython3",
      "version": "3.10.9"
    },
    "nteract": {
      "version": "nteract-front-end@1.0.0"
    },
    "orig_nbformat": 2
  },
  "nbformat": 4,
  "nbformat_minor": 2
}
