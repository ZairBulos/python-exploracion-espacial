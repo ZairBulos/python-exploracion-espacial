{
  "cells": [
    {
      "cell_type": "markdown",
      "metadata": {},
      "source": [
        "To start our program, we'll want to let the user know that the program is beginning by using the `print` command to output a string of text.\n",
        "\n",
        "*******\n",
        "If you are completing this module here on Microsoft Learn, you can skip the following steps and go directly to running the code cell. If you are completing this module on your local computer using Visual Studio Code, then you have a few extra steps you need to do before you get started:\n",
        "\n",
        "1. Create a folder on your computer that you can access easily. Call the folder something like SpaceRockProject.\n",
        "1. Open the file [rocks.txt](https://docs.microsoft.com/learn/modules/count-moon-rocks-python-nasa/resources/rocks.txt) and select **File** > **Save as**  or **Ctrl + S** to save a copy in your folder. This file contains all of the rocks data that we're going to be reading in Python.\n",
        "\n",
        "   ![Screenshot showing how to save the rock text file.](./media/save-rock-file.png)\n",
        "\n",
        "1. Open Visual Studio Code and select **File** > **New File**. Once the blank file is open, select **Ctrl + S** to save it.\n",
        "1. Navigate to the folder you created, name the file something informative such as ArtemisRockClassifier, and change the file type to Jupyter from the drop-down menu.\n",
        "\n",
        "   ![Screenshot showing how to create the final project Jupyter Notebook.](./media/create-final-project.png)\n",
        "\n",
        "Now that we have everything created, we can start coding!\n",
        "*******\n",
        "\n",
        "Run the following code cell to let the user know that the program is beginning:"
      ]
    },
    {
      "cell_type": "code",
      "execution_count": 1,
      "metadata": {},
      "outputs": [
        {
          "name": "stdout",
          "output_type": "stream",
          "text": [
            "Artemis Rover Rock Scanner Starting\n"
          ]
        }
      ],
      "source": [
        "print(\"Artemis Rover Rock Scanner Starting\")"
      ]
    },
    {
      "cell_type": "markdown",
      "metadata": {},
      "source": [
        "Next, we want to create some variables to represent the count of the different types of rocks that Artemis found on the Moon. The specific rocks that we're looking for are\n",
        "\n",
        "- Basalt: The Mare Rock\n",
        "- Breccia: Shocked Rock\n",
        "- Highland Rock: Anorthosite\n",
        "- Regolith Soil/Surface Layer\n",
        "\n",
        "These types are the four main types of rocks found on the Moon.\n",
        "\n",
        "Let's make some variables with names of `basalt`, `breccia`, `highland`, and `regolith`. We can also set these variables to `0` since we've not yet counted any rocks. Finally, make a list called `rockList` that will store the names of every rock the rover found. We can make the list empty by setting it equal to brackets with nothing inside them."
      ]
    },
    {
      "cell_type": "code",
      "execution_count": 2,
      "metadata": {},
      "outputs": [],
      "source": [
        "basalt = 0\n",
        "breccia = 0\n",
        "highland = 0\n",
        "regolith = 0\n",
        "rockList = []"
      ]
    }
  ],
  "metadata": {
    "kernelspec": {
      "display_name": "Python 3",
      "language": "python",
      "name": "python3"
    },
    "language_info": {
      "codemirror_mode": {
        "name": "ipython",
        "version": 3
      },
      "file_extension": ".py",
      "mimetype": "text/x-python",
      "name": "python",
      "nbconvert_exporter": "python",
      "pygments_lexer": "ipython3",
      "version": "3.10.9"
    },
    "nteract": {
      "version": "nteract-front-end@1.0.0"
    },
    "orig_nbformat": 2
  },
  "nbformat": 4,
  "nbformat_minor": 2
}
