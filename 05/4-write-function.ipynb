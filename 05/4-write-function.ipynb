{
  "cells": [
    {
      "cell_type": "markdown",
      "metadata": {},
      "source": [
        "Let's start by making sure we have the code from the previous units loaded in our notebooks. Either confirm that you have the following code in your notebook in Visual Studio Code, or run this code cell to make sure that we've brought this code over to this notebook."
      ]
    },
    {
      "cell_type": "code",
      "execution_count": 1,
      "metadata": {},
      "outputs": [
        {
          "name": "stdout",
          "output_type": "stream",
          "text": [
            "Artemis Rover Rock Scanner Starting\n",
            "Reading Rocks\n",
            "\n",
            "basalt\n",
            "\n",
            "breccia\n",
            "\n",
            "highland\n",
            "\n",
            "regolith\n",
            "\n",
            "highland\n",
            "\n",
            "breccia\n",
            "\n",
            "highland\n",
            "\n",
            "regolith\n",
            "\n",
            "regolith\n",
            "\n",
            "basalt\n",
            "\n",
            "highland\n",
            "\n",
            "basalt\n",
            "\n",
            "breccia\n",
            "\n",
            "breccia\n",
            "\n",
            "regolith\n",
            "\n",
            "breccia\n",
            "\n",
            "highland\n",
            "\n",
            "highland\n",
            "\n",
            "breccia\n",
            "\n",
            "basalt\n",
            "\n"
          ]
        }
      ],
      "source": [
        "print(\"Artemis Rover Rock Scanner Starting\")\n",
        "\n",
        "basalt = 0\n",
        "breccia = 0\n",
        "highland = 0\n",
        "regolith = 0\n",
        "rockList = []\n",
        "\n",
        "strPath = \"rocks.txt\"\n",
        "fileObject = open(strPath)\n",
        "line = fileObject.readline()\n",
        "print(line)\n",
        "\n",
        "rockList = fileObject.readlines()\n",
        "\n",
        "for rock in rockList:\n",
        "    print(rock)\n",
        "\n",
        "fileObject.close()"
      ]
    },
    {
      "cell_type": "markdown",
      "metadata": {},
      "source": [
        "The next step in our application is to add a function that looks at a line of text, tells us which type of rock it is, and increments the corresponding variable. To start, run this code cell:"
      ]
    },
    {
      "cell_type": "code",
      "execution_count": 2,
      "metadata": {},
      "outputs": [],
      "source": [
        "def countMoonRocks(rockToID):\n",
        "    global basalt\n",
        "    global breccia\n",
        "    global highland\n",
        "    global regolith\n",
        "\n",
        "    rockToID = rockToID.lower()\n",
        "\n",
        "    if(\"basalt\" in rockToID):\n",
        "        print(\"Found a basalt\\n\")\n",
        "        basalt += 1\n",
        "\n",
        "    #TODO Add else if statements for breccia, highland and regolith\n",
        "\n",
        "    return"
      ]
    },
    {
      "cell_type": "markdown",
      "metadata": {},
      "source": [
        "As you recall, these lines create a function with a parameter of the string variable `rockToID` and returns nothing. We'll be calling the function and passing in one of four rock names: Basalt, Breccia, Highland, or Regolith. We'll need to make each rock type a global variable to ensure that the variables remember how many rocks they've counted. To increment the correct variable based on the types of rocks that Artemis found, we'll use `if` statements.\n",
        "\n",
        "The code above checks if the string we've passed through to the function contains the text \"basalt\". If it does, we'll go into the `if` statement and print out that we've found a Basalt rock and then increment the variable for Basalt by one.\n",
        "\n",
        "> [!NOTE]\n",
        "> If the line of text had \"basalt\" in it, with other text, it would still be counted. For example, \"No basalt here\" would be counted as one for Basalt. This shouldn't be a problem in this case because we know where the data is coming from and what it looks like.\n",
        "\n",
        "Before jumping into the solution code, try to add the `else if` statements to practice your new skills of conditional statements. Then, compare to the solution code here:"
      ]
    },
    {
      "cell_type": "code",
      "execution_count": 3,
      "metadata": {},
      "outputs": [],
      "source": [
        "def countMoonRocks(rockToID):\n",
        "    global basalt\n",
        "    global breccia\n",
        "    global highland\n",
        "    global regolith\n",
        "\n",
        "    rockToID = rockToID.lower()\n",
        "\n",
        "    if(\"basalt\" in rockToID):\n",
        "        print(\"Found a basalt\\n\")\n",
        "        basalt += 1\n",
        "    elif(\"breccia\" in rockToID):\n",
        "        print(\"Found a breccia\\n\")\n",
        "        breccia += 1\n",
        "    elif(\"highland\" in rockToID):\n",
        "        print(\"Found a highland\\n\")\n",
        "        highland += 1\n",
        "    elif(\"regolith\" in rockToID):\n",
        "        print(\"Found a regolith\\n\")\n",
        "        regolith += 1\n",
        "\n",
        "    return"
      ]
    }
  ],
  "metadata": {
    "kernelspec": {
      "display_name": "Python 3",
      "language": "python",
      "name": "python3"
    },
    "language_info": {
      "codemirror_mode": {
        "name": "ipython",
        "version": 3
      },
      "file_extension": ".py",
      "mimetype": "text/x-python",
      "name": "python",
      "nbconvert_exporter": "python",
      "pygments_lexer": "ipython3",
      "version": "3.10.9"
    },
    "nteract": {
      "version": "nteract-front-end@1.0.0"
    },
    "orig_nbformat": 2
  },
  "nbformat": 4,
  "nbformat_minor": 2
}
