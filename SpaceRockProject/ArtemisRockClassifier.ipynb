{
 "cells": [
  {
   "cell_type": "code",
   "execution_count": 1,
   "metadata": {},
   "outputs": [
    {
     "name": "stdout",
     "output_type": "stream",
     "text": [
      "Artemis Rover Rock Scanner Starting\n"
     ]
    }
   ],
   "source": [
    "print(\"Artemis Rover Rock Scanner Starting\")"
   ]
  },
  {
   "cell_type": "code",
   "execution_count": 2,
   "metadata": {},
   "outputs": [],
   "source": [
    "basalt = 0\n",
    "breccia = 0\n",
    "highland = 0\n",
    "regolith = 0\n",
    "rockList = []"
   ]
  },
  {
   "cell_type": "code",
   "execution_count": 3,
   "metadata": {},
   "outputs": [],
   "source": [
    "strPath = \"rocks.txt\"\n",
    "fileObject = open(strPath, \"w\")\n",
    "fileObject.writelines([\"Reading Rocks\\n\",\"basalt\\n\",\"breccia\\n\",\"highland\\n\",\"regolith\\n\",\"highland\\n\",\"breccia\\n\",\"highland\\n\",\"regolith\\n\",\"regolith\\n\",\"basalt\\n\",\"highland\\n\",\"basalt\\n\",\"breccia\\n\",\"breccia\\n\",\"regolith\\n\",\"breccia\\n\",\"highland\\n\",\"highland\\n\",\"breccia\\n\",\"basalt\\n\"])\n",
    "fileObject.close()"
   ]
  },
  {
   "cell_type": "code",
   "execution_count": 4,
   "metadata": {},
   "outputs": [
    {
     "name": "stdout",
     "output_type": "stream",
     "text": [
      "Reading Rocks\n",
      "\n"
     ]
    }
   ],
   "source": [
    "strPath = \"rocks.txt\"\n",
    "fileObject = open(strPath)\n",
    "line = fileObject.readline()\n",
    "print(line)"
   ]
  },
  {
   "cell_type": "code",
   "execution_count": 5,
   "metadata": {},
   "outputs": [
    {
     "name": "stdout",
     "output_type": "stream",
     "text": [
      "basalt\n",
      "\n",
      "breccia\n",
      "\n",
      "highland\n",
      "\n",
      "regolith\n",
      "\n",
      "highland\n",
      "\n",
      "breccia\n",
      "\n",
      "highland\n",
      "\n",
      "regolith\n",
      "\n",
      "regolith\n",
      "\n",
      "basalt\n",
      "\n",
      "highland\n",
      "\n",
      "basalt\n",
      "\n",
      "breccia\n",
      "\n",
      "breccia\n",
      "\n",
      "regolith\n",
      "\n",
      "breccia\n",
      "\n",
      "highland\n",
      "\n",
      "highland\n",
      "\n",
      "breccia\n",
      "\n",
      "basalt\n",
      "\n"
     ]
    }
   ],
   "source": [
    "rockList = fileObject.readlines()\n",
    "\n",
    "for rock in rockList:\n",
    "    print(rock)\n",
    "\n",
    "fileObject.close()"
   ]
  },
  {
   "cell_type": "code",
   "execution_count": 6,
   "metadata": {},
   "outputs": [],
   "source": [
    "def countMoonRocks(rockToID):\n",
    "    global basalt\n",
    "    global breccia\n",
    "    global highland\n",
    "    global regolith\n",
    "\n",
    "    rockToID = rockToID.lower()\n",
    "\n",
    "    if(\"basalt\" in rockToID):\n",
    "        print(\"Found a basalt\\n\")\n",
    "        basalt += 1\n",
    "    elif(\"breccia\" in rockToID):\n",
    "        print(\"Found a breccia\\n\")\n",
    "        breccia += 1\n",
    "    elif(\"highland\" in rockToID):\n",
    "        print(\"Found a highland\\n\")\n",
    "        highland += 1\n",
    "    elif(\"regolith\" in rockToID):\n",
    "        print(\"Found a regolith\\n\")\n",
    "        regolith += 1\n",
    "\n",
    "    return"
   ]
  },
  {
   "cell_type": "code",
   "execution_count": 7,
   "metadata": {},
   "outputs": [
    {
     "name": "stdout",
     "output_type": "stream",
     "text": [
      "Found a basalt\n",
      "\n",
      "Found a breccia\n",
      "\n",
      "Found a highland\n",
      "\n",
      "Found a regolith\n",
      "\n",
      "Found a highland\n",
      "\n",
      "Found a breccia\n",
      "\n",
      "Found a highland\n",
      "\n",
      "Found a regolith\n",
      "\n",
      "Found a regolith\n",
      "\n",
      "Found a basalt\n",
      "\n",
      "Found a highland\n",
      "\n",
      "Found a basalt\n",
      "\n",
      "Found a breccia\n",
      "\n",
      "Found a breccia\n",
      "\n",
      "Found a regolith\n",
      "\n",
      "Found a breccia\n",
      "\n",
      "Found a highland\n",
      "\n",
      "Found a highland\n",
      "\n",
      "Found a breccia\n",
      "\n",
      "Found a basalt\n",
      "\n"
     ]
    }
   ],
   "source": [
    "for rock in rockList:\n",
    "    countMoonRocks(rock)"
   ]
  },
  {
   "cell_type": "code",
   "execution_count": 8,
   "metadata": {},
   "outputs": [
    {
     "name": "stdout",
     "output_type": "stream",
     "text": [
      "Number of Basalt rocks found:  4\n",
      "Number of Breccia rocks found:  6\n",
      "Number of Highland rocks found:  6\n",
      "Number of Regolith rocks found:  4\n"
     ]
    }
   ],
   "source": [
    "print(\"Number of Basalt rocks found: \", basalt)\n",
    "print(\"Number of Breccia rocks found: \", breccia)\n",
    "print(\"Number of Highland rocks found: \", highland)\n",
    "print(\"Number of Regolith rocks found: \", regolith)"
   ]
  },
  {
   "cell_type": "code",
   "execution_count": 9,
   "metadata": {},
   "outputs": [
    {
     "name": "stdout",
     "output_type": "stream",
     "text": [
      "The max number of rocks found is:  6\n",
      "The min number of rocks found is:  4\n"
     ]
    }
   ],
   "source": [
    "print(\"The max number of rocks found is: \", max(basalt, breccia, highland, regolith))\n",
    "print(\"The min number of rocks found is: \", min(basalt, breccia, highland, regolith))"
   ]
  },
  {
   "cell_type": "code",
   "execution_count": 10,
   "metadata": {},
   "outputs": [
    {
     "name": "stdout",
     "output_type": "stream",
     "text": [
      "Artemis Rover Rock Scanner Ending\n"
     ]
    }
   ],
   "source": [
    "print(\"Artemis Rover Rock Scanner Ending\")"
   ]
  }
 ],
 "metadata": {
  "kernelspec": {
   "display_name": "Python 3",
   "language": "python",
   "name": "python3"
  },
  "language_info": {
   "codemirror_mode": {
    "name": "ipython",
    "version": 3
   },
   "file_extension": ".py",
   "mimetype": "text/x-python",
   "name": "python",
   "nbconvert_exporter": "python",
   "pygments_lexer": "ipython3",
   "version": "3.10.9"
  },
  "orig_nbformat": 4
 },
 "nbformat": 4,
 "nbformat_minor": 2
}
